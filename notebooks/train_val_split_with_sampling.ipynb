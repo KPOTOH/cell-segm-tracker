{
 "cells": [
  {
   "cell_type": "code",
   "execution_count": 1,
   "metadata": {},
   "outputs": [],
   "source": [
    "import glob\n",
    "from shutil import copyfile, move\n",
    "import os, re\n",
    "import numpy as np\n",
    "import random\n",
    "import argparse"
   ]
  },
  {
   "cell_type": "code",
   "execution_count": 2,
   "metadata": {},
   "outputs": [],
   "source": [
    "import matplotlib.pyplot as plt\n",
    "%matplotlib inline"
   ]
  },
  {
   "cell_type": "code",
   "execution_count": 3,
   "metadata": {},
   "outputs": [],
   "source": [
    "# parser = argparse.ArgumentParser(description=\"split all im-json set to train and val\", )\n",
    "\n",
    "# parser.add_argument('-d', \"--data\", default='./', help='path to data dir, default=./', metavar='')\n",
    "# parser.add_argument('-p', \"--proportion\", default=.2, type=float, help='proportion of test set, default=.2', metavar='')\n",
    "\n",
    "\n",
    "# args = parser.parse_args()\n",
    "\n",
    "# PATH_TO_DATA = args.data\n",
    "# PROPORTION = args.proportion"
   ]
  },
  {
   "cell_type": "code",
   "execution_count": null,
   "metadata": {},
   "outputs": [],
   "source": []
  },
  {
   "cell_type": "code",
   "execution_count": 28,
   "metadata": {},
   "outputs": [],
   "source": [
    "# im_path = '../data/interim/K_labeling/done/'\n",
    "# ims = glob.glob(im_path + '*/*')\n",
    "\n",
    "# for im in ims:\n",
    "#     jname = im.split('/')[-1].replace('jpg','json')\n",
    "#     src = '../data/interim/K_labeling/files_for_set3/{}'.format(jname)\n",
    "#     dst = im.replace('jpg','json')\n",
    "#     try:\n",
    "#         copyfile(src,dst)\n",
    "#     except:\n",
    "#         pass"
   ]
  },
  {
   "cell_type": "code",
   "execution_count": null,
   "metadata": {},
   "outputs": [],
   "source": []
  },
  {
   "cell_type": "code",
   "execution_count": 32,
   "metadata": {},
   "outputs": [],
   "source": [
    "PATH_TO_DATA = '../data/interim/training/_labelme_set_3/'\n",
    "PROPORTION = .3"
   ]
  },
  {
   "cell_type": "code",
   "execution_count": 33,
   "metadata": {},
   "outputs": [],
   "source": [
    "def create_dir(path):\n",
    "    if not os.path.exists(path):\n",
    "        os.mkdir(path)"
   ]
  },
  {
   "cell_type": "code",
   "execution_count": 34,
   "metadata": {},
   "outputs": [],
   "source": [
    "def count_labels_in_file(filename, label_name='cell'):\n",
    "    # equal to \"grep -c $label_name $filename\"\n",
    "    counter = 0\n",
    "    with open(filename) as file:\n",
    "        for line in file:\n",
    "            if label_name in line:\n",
    "                counter += 1\n",
    "    return counter"
   ]
  },
  {
   "cell_type": "code",
   "execution_count": 35,
   "metadata": {},
   "outputs": [],
   "source": [
    "images = glob.glob(os.path.join(PATH_TO_DATA, '*.jpg'))\n",
    "# random.shuffle(images)\n",
    "labels = [im.replace('jpg', 'json') for im in images]"
   ]
  },
  {
   "cell_type": "code",
   "execution_count": 36,
   "metadata": {},
   "outputs": [],
   "source": [
    "cell_numbers = []\n",
    "for im,jsn in zip(images, labels):\n",
    "    n_labels = count_labels_in_file(jsn)\n",
    "    cell_numbers.append(n_labels)\n",
    "    \n",
    "cell_numbers = np.array(cell_numbers) # nums of cells in each image"
   ]
  },
  {
   "cell_type": "code",
   "execution_count": 37,
   "metadata": {},
   "outputs": [
    {
     "data": {
      "text/plain": [
       "array([ 34,  15,  14,  22,  16,   1,   3,   2,   6,  50,   5,   5,  64,\n",
       "         4,   1,   0,   3,  18,   0,   2,  44,   0, 219,   1,   2,   3,\n",
       "         7,   4,  35,   9,   1,   3,  76,  26, 123,   3,  10,   2,  11,\n",
       "         4,   1,   5,  32,   2,  10,  21,   5, 139,  50,  37,   6,   4,\n",
       "        10,  21,   1,   1,  17,   4,   1,   2,  51,  13,   1,   1,   1,\n",
       "         1,   2,  16,   7,   4,   1,   2,   3,  40,  28,   5, 158,  18,\n",
       "         8,   2,  14,   2,   2,   3,   2,   0,  43,   1,  24,  12,  53,\n",
       "         3,   2,  74,   8,   2,  18,   8,  71,   3,  66, 101,   1,   8,\n",
       "       112,   5,  12,   9,   2,   9,   0,  10,   6,  15,   4,   0,   7,\n",
       "        46,  55,   9,  17,   2,   3,   7,  75,   2,  41,   2,   1,  63,\n",
       "         1,  13,   5,  26,   5,   1,  37,  66,  19,  14,  31,   2,  10,\n",
       "        12,   1,   1,  26,   1,  99,   0,   3,  19,  18,  21,   2,  83,\n",
       "         6,   7,   1,   2,   5,  54,   6,  10,  20,  34,   1,   2,   3,\n",
       "        81,  15,   1,   5, 175,   2,   1,  43,  28,   3,   2,   1,  14,\n",
       "        13,   5,   7,   0, 140,  19,   7,   0,   2,   5,   8,   0,  96,\n",
       "         0,  20,   2,  73,   4,  35,  21,   3,  62,   4,  42,   2,   1])"
      ]
     },
     "execution_count": 37,
     "metadata": {},
     "output_type": "execute_result"
    }
   ],
   "source": [
    "cell_numbers"
   ]
  },
  {
   "cell_type": "code",
   "execution_count": 38,
   "metadata": {},
   "outputs": [
    {
     "data": {
      "text/plain": [
       "(array([1604, 1257,  531,  612,  219]),\n",
       " array([0.40350462, 0.32133554, 0.14941984, 0.16860052, 0.07553872]),\n",
       " array([  0. ,  43.8,  87.6, 131.4, 175.2, 219. ]))"
      ]
     },
     "execution_count": 38,
     "metadata": {},
     "output_type": "execute_result"
    }
   ],
   "source": [
    "# here we get discrete cell density \n",
    "n_bins = 5\n",
    "dens,vals = np.histogram(cell_numbers, bins=n_bins, weights=cell_numbers)\n",
    "probs = (dens + 100) / dens.sum() # add 100 for smoothing\n",
    "dens,probs,vals"
   ]
  },
  {
   "cell_type": "code",
   "execution_count": 39,
   "metadata": {},
   "outputs": [],
   "source": [
    "sampling_probs = [] # probs to sample for each N in cell_numbers\n",
    "for x in cell_numbers:\n",
    "    for i,v in enumerate(vals):\n",
    "        if x < v:\n",
    "            cur_prob = probs[i-1]\n",
    "            break\n",
    "    sampling_probs.append(cur_prob)\n",
    "\n",
    "sampling_probs = np.array(sampling_probs) / sum(sampling_probs)"
   ]
  },
  {
   "cell_type": "code",
   "execution_count": 40,
   "metadata": {},
   "outputs": [],
   "source": [
    "n_test = int(len(images) * PROPORTION)\n",
    "\n",
    "test_set = np.random.choice(images, n_test, p=sampling_probs, replace=False) # sampling w/o repeats\n",
    "test_cell_numbers = [count_labels_in_file(im.replace('jpg', 'json')) for im in test_set]"
   ]
  },
  {
   "cell_type": "code",
   "execution_count": 41,
   "metadata": {},
   "outputs": [
    {
     "data": {
      "text/plain": [
       "(True, True)"
      ]
     },
     "execution_count": 41,
     "metadata": {},
     "output_type": "execute_result"
    }
   ],
   "source": [
    "train_set = set(images).difference(test_set)\n",
    "train_cell_numbers = [count_labels_in_file(im.replace('jpg', 'json')) for im in train_set]\n",
    "\n",
    "len(test_set) + len(train_set) == len(images), len(set(test_set).union(train_set)) == len(images)"
   ]
  },
  {
   "cell_type": "code",
   "execution_count": 42,
   "metadata": {},
   "outputs": [
    {
     "data": {
      "image/png": "[encoded data removed]",
      "text/plain": [
       "<Figure size 1440x288 with 1 Axes>"
      ]
     },
     "metadata": {
      "needs_background": "light"
     },
     "output_type": "display_data"
    }
   ],
   "source": [
    "plt.figure(figsize=(20,4))\n",
    "_ = plt.hist(cell_numbers, n_bins, weights=cell_numbers)"
   ]
  },
  {
   "cell_type": "code",
   "execution_count": 43,
   "metadata": {},
   "outputs": [
    {
     "data": {
      "image/png": "[encoded data removed]",
      "text/plain": [
       "<Figure size 1440x288 with 1 Axes>"
      ]
     },
     "metadata": {
      "needs_background": "light"
     },
     "output_type": "display_data"
    }
   ],
   "source": [
    "plt.figure(figsize=(20,4))\n",
    "_ = plt.hist(test_cell_numbers, n_bins)"
   ]
  },
  {
   "cell_type": "code",
   "execution_count": 44,
   "metadata": {},
   "outputs": [
    {
     "data": {
      "image/png": "[encoded data removed]",
      "text/plain": [
       "<Figure size 1440x288 with 1 Axes>"
      ]
     },
     "metadata": {
      "needs_background": "light"
     },
     "output_type": "display_data"
    }
   ],
   "source": [
    "plt.figure(figsize=(20,4))\n",
    "_ = plt.hist(train_cell_numbers, n_bins)"
   ]
  },
  {
   "cell_type": "markdown",
   "metadata": {},
   "source": [
    "### Sets have created. It's time to sort it in dirs"
   ]
  },
  {
   "cell_type": "code",
   "execution_count": 45,
   "metadata": {},
   "outputs": [],
   "source": [
    "im_heap = dict(test=test_set, train=train_set)"
   ]
  },
  {
   "cell_type": "code",
   "execution_count": 46,
   "metadata": {},
   "outputs": [],
   "source": [
    "create_dir(os.path.join(PATH_TO_DATA, 'test'))\n",
    "create_dir(os.path.join(PATH_TO_DATA, 'train'))"
   ]
  },
  {
   "cell_type": "code",
   "execution_count": 47,
   "metadata": {},
   "outputs": [],
   "source": [
    "for part in im_heap:\n",
    "    for src_im in im_heap[part]:\n",
    "        src_jsn = src_im.replace('jpg', 'json')\n",
    "        \n",
    "        dst_im = os.path.join(PATH_TO_DATA, part, src_im.split('/')[-1])\n",
    "        dst_jsn = dst_im.replace('jpg','json')\n",
    "        \n",
    "        move(src_im, dst_im)\n",
    "        move(src_jsn, dst_jsn)"
   ]
  },
  {
   "cell_type": "code",
   "execution_count": null,
   "metadata": {},
   "outputs": [],
   "source": []
  }
 ],
 "metadata": {
  "kernelspec": {
   "display_name": "Python 3",
   "language": "python",
   "name": "python3"
  },
  "language_info": {
   "codemirror_mode": {
    "name": "ipython",
    "version": 3
   },
   "file_extension": ".py",
   "mimetype": "text/x-python",
   "name": "python",
   "nbconvert_exporter": "python",
   "pygments_lexer": "ipython3",
   "version": "3.6.10"
  }
 },
 "nbformat": 4,
 "nbformat_minor": 2
}
