{
 "cells": [
  {
   "cell_type": "markdown",
   "metadata": {},
   "source": [
    "## This notebook move ~3400 images from ex hdd to my ssd"
   ]
  },
  {
   "cell_type": "code",
   "execution_count": 1,
   "metadata": {},
   "outputs": [
    {
     "name": "stdout",
     "output_type": "stream",
     "text": [
      "Populating the interactive namespace from numpy and matplotlib\n"
     ]
    }
   ],
   "source": [
    "# Import packages\n",
    "import os\n",
    "import cv2\n",
    "import numpy as np\n",
    "import pandas as pd\n",
    "import sys\n",
    "import glob\n",
    "import json\n",
    "from shutil import copyfile\n",
    "\n",
    "import matplotlib.pyplot as plt\n",
    "from IPython.display import clear_output\n",
    "%pylab inline\n"
   ]
  },
  {
   "cell_type": "code",
   "execution_count": 2,
   "metadata": {},
   "outputs": [],
   "source": [
    "PATH_TO_PRE_RAW = '/media/mr/const/cells/RNF_mod/'\n",
    "PATH_TO_RAW = '/home/mr/cell_segmentation/data/raw/'"
   ]
  },
  {
   "cell_type": "markdown",
   "metadata": {},
   "source": [
    "### look at cells in samples of 3 image from full well"
   ]
  },
  {
   "cell_type": "code",
   "execution_count": 4,
   "metadata": {},
   "outputs": [],
   "source": [
    "kill_process = False\n",
    "for exp in glob.glob(PATH_TO_PRE_RAW + '[12]*/*/'):\n",
    "    l_wells = glob.glob(exp + '*')\n",
    "    for well in l_wells:\n",
    "        files = sorted(glob.glob(well + '/*'))\n",
    "        sample = [\n",
    "            files[len(files)*2//3], \n",
    "            files[len(files)//3], \n",
    "            files[-2]\n",
    "        ]\n",
    "        for ffile in sample:\n",
    "#             print(ffile)\n",
    "            frame = cv2.imread(ffile)\n",
    "            frame = cv2.resize(frame, (696,520))\n",
    "\n",
    "            cv2.putText(frame, ffile.split('/')[-2],(0,20),cv2.FONT_HERSHEY_SIMPLEX, 0.65, (50,170,50),2)\n",
    "            cv2.imshow('Object detector', frame)\n",
    "            time.sleep(.1)\n",
    "            if cv2.waitKey(1) == ord('q'):\n",
    "                kill_process=True\n",
    "                break\n",
    "        time.sleep(.2)\n",
    "        if kill_process:\n",
    "            break\n",
    "#     break\n",
    "cv2.destroyAllWindows()"
   ]
  },
  {
   "cell_type": "markdown",
   "metadata": {},
   "source": [
    "### copy this sample to local dir to work with"
   ]
  },
  {
   "cell_type": "code",
   "execution_count": 12,
   "metadata": {},
   "outputs": [],
   "source": [
    "for exp in glob.glob(PATH_TO_PRE_RAW + '[12]*/*/'):\n",
    "    l_wells = glob.glob(exp + '*')\n",
    "    for well in l_wells:\n",
    "        files = sorted(glob.glob(well + '/*'))\n",
    "#         get images from 1/3, 2/3 timestamp and from end of video\n",
    "        sample = [\n",
    "            files[len(files)*2//3], \n",
    "            files[len(files)//3], \n",
    "            files[-2]\n",
    "        ]\n",
    "        for ffile in sample:\n",
    "            src = ffile\n",
    "            dst = os.path.join(PATH_TO_RAW, '/'.join(ffile.split('/')[6:]))\n",
    "            copyfile(src, dst)\n",
    "            \n",
    "    print('tata')\n"
   ]
  },
  {
   "cell_type": "code",
   "execution_count": null,
   "metadata": {},
   "outputs": [],
   "source": []
  }
 ],
 "metadata": {
  "kernelspec": {
   "display_name": "Python 3",
   "language": "python",
   "name": "python3"
  },
  "language_info": {
   "codemirror_mode": {
    "name": "ipython",
    "version": 3
   },
   "file_extension": ".py",
   "mimetype": "text/x-python",
   "name": "python",
   "nbconvert_exporter": "python",
   "pygments_lexer": "ipython3",
   "version": "3.6.9"
  }
 },
 "nbformat": 4,
 "nbformat_minor": 2
}
