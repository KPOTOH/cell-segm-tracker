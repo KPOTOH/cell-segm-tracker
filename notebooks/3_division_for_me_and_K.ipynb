{
 "cells": [
  {
   "cell_type": "code",
   "execution_count": 1,
   "metadata": {},
   "outputs": [
    {
     "name": "stdout",
     "output_type": "stream",
     "text": [
      "Populating the interactive namespace from numpy and matplotlib\n"
     ]
    }
   ],
   "source": [
    "# Import packages\n",
    "import os\n",
    "import cv2\n",
    "import numpy as np\n",
    "import pandas as pd\n",
    "import sys\n",
    "import glob\n",
    "import json\n",
    "from shutil import copyfile\n",
    "\n",
    "import matplotlib.pyplot as plt\n",
    "from IPython.display import clear_output\n",
    "%pylab inline"
   ]
  },
  {
   "cell_type": "code",
   "execution_count": 11,
   "metadata": {},
   "outputs": [],
   "source": [
    "def create_dir(path):\n",
    "    if not os.path.exists(path):\n",
    "        os.mkdir(path)"
   ]
  },
  {
   "cell_type": "code",
   "execution_count": 15,
   "metadata": {},
   "outputs": [],
   "source": [
    "PATH_TO_CLUSTERS = '/home/mr/cell_segmentation/data/interim/img_clusters_for_labeling/'\n",
    "PATH_TO_MY = '/home/mr/cell_segmentation/data/interim/my_labeling/'\n",
    "PATH_TO_K =  '/home/mr/cell_segmentation/data/interim/K_labeling/'"
   ]
  },
  {
   "cell_type": "code",
   "execution_count": 4,
   "metadata": {},
   "outputs": [],
   "source": [
    "# get dirs of clusters\n",
    "cl_dirs = glob.glob(PATH_TO_CLUSTERS + '*')"
   ]
  },
  {
   "cell_type": "code",
   "execution_count": 19,
   "metadata": {},
   "outputs": [],
   "source": [
    "create_dir(PATH_TO_K)\n",
    "create_dir(PATH_TO_MY)\n",
    "\n",
    "for p in cl_dirs:\n",
    "#     create_dir(NEW_PATH + str(p))\n",
    "    create_dir(PATH_TO_MY + os.path.split(p)[-1])\n",
    "    create_dir(PATH_TO_K + os.path.split(p)[-1])"
   ]
  },
  {
   "cell_type": "code",
   "execution_count": 21,
   "metadata": {},
   "outputs": [],
   "source": [
    "for cl in cl_dirs:\n",
    "    figs = glob.glob(cl + '/*')\n",
    "    middle = len(figs) // 2\n",
    "    np.random.shuffle(figs)\n",
    "    \n",
    "    my_figs = figs[:middle]\n",
    "    for im in my_figs:\n",
    "        src = im\n",
    "        dst = im.replace('img_clusters_for_labeling','my_labeling')\n",
    "        copyfile(src,dst)\n",
    "        \n",
    "    K_figs = figs[middle:]\n",
    "    for im in K_figs:\n",
    "        src = im\n",
    "        dst = im.replace('img_clusters_for_labeling','K_labeling')\n",
    "        copyfile(src,dst)"
   ]
  },
  {
   "cell_type": "code",
   "execution_count": null,
   "metadata": {},
   "outputs": [],
   "source": []
  }
 ],
 "metadata": {
  "kernelspec": {
   "display_name": "Python 3",
   "language": "python",
   "name": "python3"
  },
  "language_info": {
   "codemirror_mode": {
    "name": "ipython",
    "version": 3
   },
   "file_extension": ".py",
   "mimetype": "text/x-python",
   "name": "python",
   "nbconvert_exporter": "python",
   "pygments_lexer": "ipython3",
   "version": "3.6.10"
  }
 },
 "nbformat": 4,
 "nbformat_minor": 2
}
