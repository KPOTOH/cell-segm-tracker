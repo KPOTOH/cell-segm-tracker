{
 "cells": [
  {
   "cell_type": "markdown",
   "metadata": {},
   "source": [
    "## Here we copy images to interim/raw_for_labeling without well structure"
   ]
  },
  {
   "cell_type": "code",
   "execution_count": 1,
   "metadata": {},
   "outputs": [
    {
     "name": "stdout",
     "output_type": "stream",
     "text": [
      "Populating the interactive namespace from numpy and matplotlib\n"
     ]
    }
   ],
   "source": [
    "# Import packages\n",
    "import os\n",
    "import cv2\n",
    "import numpy as np\n",
    "import pandas as pd\n",
    "import sys\n",
    "import glob\n",
    "import json\n",
    "from shutil import copyfile\n",
    "\n",
    "import matplotlib.pyplot as plt\n",
    "from IPython.display import clear_output\n",
    "%pylab inline\n"
   ]
  },
  {
   "cell_type": "code",
   "execution_count": 2,
   "metadata": {},
   "outputs": [],
   "source": [
    "PATH_TO_RAW = '/home/mr/cell_segmentation/data/raw/'"
   ]
  },
  {
   "cell_type": "markdown",
   "metadata": {},
   "source": [
    "### Look at images"
   ]
  },
  {
   "cell_type": "code",
   "execution_count": 4,
   "metadata": {},
   "outputs": [],
   "source": [
    "kill_process = False\n",
    "for exp in glob.glob(PATH_TO_RAW + '*/*/'):\n",
    "    l_wells = glob.glob(exp + '*')\n",
    "    for well in l_wells:\n",
    "        files = sorted(glob.glob(well + '/*'))\n",
    "\n",
    "        for ffile in files:\n",
    "#             print(ffile)\n",
    "            frame = cv2.imread(ffile)\n",
    "            frame = cv2.resize(frame, (696,520))\n",
    "\n",
    "            cv2.putText(frame, ffile.split('/')[-2],(0,20),cv2.FONT_HERSHEY_SIMPLEX, 0.65, (50,170,50),2)\n",
    "            cv2.imshow('Object detector', frame)\n",
    "            time.sleep(.1)\n",
    "            if cv2.waitKey(1) == ord('q'):\n",
    "                kill_process=True\n",
    "                break\n",
    "        time.sleep(.2)\n",
    "        if kill_process:\n",
    "            break\n",
    "#     break\n",
    "cv2.destroyAllWindows()"
   ]
  },
  {
   "cell_type": "markdown",
   "metadata": {},
   "source": [
    "### Create dir structure for copying images"
   ]
  },
  {
   "cell_type": "code",
   "execution_count": 18,
   "metadata": {},
   "outputs": [],
   "source": [
    "_path = '/home/mr/cell_segmentation/data/interim/raw_for_labeling'\n",
    "if not os.path.exists(_path):\n",
    "    os.mkdir(_path)\n",
    "    \n",
    "for exp in glob.glob(PATH_TO_RAW+'/[12]*'):\n",
    "    exp_mod = exp.replace('raw','interim/raw_for_labeling')\n",
    "    if not os.path.exists(exp_mod):\n",
    "        os.mkdir(exp_mod)\n",
    "        \n",
    "    for pl in ['Pl_1','Pl_2']:\n",
    "        new_dir = exp_mod + '/' + pl\n",
    "        if not os.path.exists(new_dir):\n",
    "            os.mkdir(new_dir)"
   ]
  },
  {
   "cell_type": "markdown",
   "metadata": {},
   "source": [
    "### Copy images without well sorting for labelling\n",
    "### After that some images will be deleted because they similar to others"
   ]
  },
  {
   "cell_type": "code",
   "execution_count": null,
   "metadata": {},
   "outputs": [],
   "source": [
    "for exp in glob.glob(PATH_TO_RAW + '*/*/'):\n",
    "    l_wells = glob.glob(exp + '*')\n",
    "    for well in l_wells:\n",
    "        files = sorted(glob.glob(well + '/*'))\n",
    "\n",
    "        for ffile in files:\n",
    "            src = ffile\n",
    "            dst = ffile.replace('/201','__201').replace('raw','interim/raw_for_labeling')\n",
    "            copyfile(src,dst)"
   ]
  }
 ],
 "metadata": {
  "kernelspec": {
   "display_name": "Python 3",
   "language": "python",
   "name": "python3"
  },
  "language_info": {
   "codemirror_mode": {
    "name": "ipython",
    "version": 3
   },
   "file_extension": ".py",
   "mimetype": "text/x-python",
   "name": "python",
   "nbconvert_exporter": "python",
   "pygments_lexer": "ipython3",
   "version": "3.6.10"
  }
 },
 "nbformat": 4,
 "nbformat_minor": 2
}
