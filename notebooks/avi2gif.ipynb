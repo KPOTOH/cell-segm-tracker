{
 "cells": [
  {
   "cell_type": "code",
   "execution_count": 1,
   "metadata": {},
   "outputs": [],
   "source": [
    "import imageio\n",
    "import os, sys\n",
    "\n",
    "class TargetFormat(object):\n",
    "    GIF = \".gif\"\n",
    "    MP4 = \".mp4\"\n",
    "    AVI = \".avi\"\n",
    "\n",
    "def convertFile(inputpath, targetFormat):\n",
    "    \"\"\"Reference: http://imageio.readthedocs.io/en/latest/examples.html#convert-a-movie\"\"\"\n",
    "    outputpath = os.path.splitext(inputpath)[0] + targetFormat\n",
    "    print(\"converting\\r\\n\\t{0}\\r\\nto\\r\\n\\t{1}\".format(inputpath, outputpath))\n",
    "\n",
    "    reader = imageio.get_reader(inputpath)\n",
    "    fps = reader.get_meta_data()['fps']\n",
    "\n",
    "    writer = imageio.get_writer(outputpath, fps=fps)\n",
    "    for i,im in enumerate(reader):\n",
    "        sys.stdout.write(\"\\rframe {0}\".format(i))\n",
    "        sys.stdout.flush()\n",
    "        writer.append_data(im)\n",
    "    print(\"\\r\\nFinalizing...\")\n",
    "    writer.close()\n",
    "    print(\"Done.\")"
   ]
  },
  {
   "cell_type": "code",
   "execution_count": 2,
   "metadata": {},
   "outputs": [
    {
     "name": "stdout",
     "output_type": "stream",
     "text": [
      "converting\n",
      "\t../data/interim/for_APB2020/Well A2_25_labeled_maxLost4.avi\n",
      "to\n",
      "\t../data/interim/for_APB2020/Well A2_25_labeled_maxLost4.gif\n",
      "frame 57\n",
      "Finalizing...\n",
      "Done.\n"
     ]
    }
   ],
   "source": [
    "convertFile(\"../data/interim/for_APB2020/Well A2_25_labeled_maxLost4.avi\", TargetFormat.GIF)"
   ]
  }
 ],
 "metadata": {
  "kernelspec": {
   "display_name": "Python 3",
   "language": "python",
   "name": "python3"
  },
  "language_info": {
   "codemirror_mode": {
    "name": "ipython",
    "version": 3
   },
   "file_extension": ".py",
   "mimetype": "text/x-python",
   "name": "python",
   "nbconvert_exporter": "python",
   "pygments_lexer": "ipython3",
   "version": "3.6.10"
  }
 },
 "nbformat": 4,
 "nbformat_minor": 2
}
